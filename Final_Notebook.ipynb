{
 "cells": [
  {
   "cell_type": "markdown",
   "metadata": {},
   "source": [
    "# Telco Churn Analysis Breakdown\n",
    "\n",
    "###  By: Xavier Carter\n",
    "\n",
    "##### Project Scope : Finding valuable drivers for churn and proving that these drivers are correlated to churn using statistic evaluation and machine learning."
   ]
  },
  {
   "cell_type": "code",
   "execution_count": 1,
   "metadata": {},
   "outputs": [],
   "source": [
    "import pandas as pd\n",
    "import numpy as np\n",
    "import Aquire\n",
    "import Prepare\n",
    "import Explore\n",
    "import Model\n",
    "import matplotlib.pyplot as plt\n",
    "import seaborn as sns\n",
    "import scipy.stats as stats\n",
    "from sklearn.dummy import DummyClassifier\n",
    "from sklearn.tree import DecisionTreeClassifier\n",
    "from sklearn.ensemble import RandomForestClassifier\n",
    "from sklearn.neighbors import KNeighborsClassifier\n",
    "from sklearn.linear_model import LogisticRegression"
   ]
  },
  {
   "cell_type": "markdown",
   "metadata": {},
   "source": [
    "### Project Planning"
   ]
  },
  {
   "cell_type": "markdown",
   "metadata": {},
   "source": [
    "- Create ReadMe.md with data dictionary, business goals, hypothesis and hypothesis testing results\n",
    "- Aquire information from database \n",
    "- Prep and clean the data for more info for more visualizations, document findings and take\n",
    "- Use visualizations to find possible MVP's, further my MVP testing with statstical analysis\n",
    "- Create Hypothesis for each mvp,  alpha and find if rejecting the hypothesis is logical\n",
    "- Create Baseline Accuracy , document positive case and and what measure of accuracy should take precedence\n",
    "- Train classification models and evaluate results\n",
    "- Choose best preforming model for test case , document findings\n",
    "- Create csv that documents the customer ID, their churn status, predicted churn status and probability of churn\n",
    "- Document conclusions / Take aways and next steps"
   ]
  },
  {
   "cell_type": "markdown",
   "metadata": {},
   "source": [
    "### Executive Summary - Conclusions and next steps"
   ]
  },
  {
   "cell_type": "markdown",
   "metadata": {},
   "source": [
    "- Models used were Logistic regression, Decision Tree, Random Forest and  K-Nearest Neighbors, all preformed well above the baseline accuracy for the MVPs.\n",
    "    * MVP includes\n",
    "        * Fiber optic\n",
    "        * Electronic check \n",
    "        * monthly charges\n",
    "        * tenure\n",
    "        * Two year contracts\n",
    "        * One Year contracts\n",
    "        * No Internet\n",
    "- I chose my random forest as it succeeds in recall at 93% of the time while outpreforming the baseline accuracy by almost 10%.\n",
    "- Next steps would be to find solutions to make sure our high risk customers do not churn.\n",
    "- Dig deeper into customers who statistacally shouldnt have left, but did to see if these drivers were still a possible reason for leaving."
   ]
  },
  {
   "cell_type": "markdown",
   "metadata": {},
   "source": [
    "### Aquire Data"
   ]
  },
  {
   "cell_type": "markdown",
   "metadata": {},
   "source": [
    "Get data from the telco_churn database"
   ]
  },
  {
   "cell_type": "code",
   "execution_count": 2,
   "metadata": {},
   "outputs": [],
   "source": [
    "original_df = Aquire.get_telco_data()"
   ]
  },
  {
   "cell_type": "code",
   "execution_count": 3,
   "metadata": {},
   "outputs": [
    {
     "data": {
      "text/html": [
       "<div>\n",
       "<style scoped>\n",
       "    .dataframe tbody tr th:only-of-type {\n",
       "        vertical-align: middle;\n",
       "    }\n",
       "\n",
       "    .dataframe tbody tr th {\n",
       "        vertical-align: top;\n",
       "    }\n",
       "\n",
       "    .dataframe thead th {\n",
       "        text-align: right;\n",
       "    }\n",
       "</style>\n",
       "<table border=\"1\" class=\"dataframe\">\n",
       "  <thead>\n",
       "    <tr style=\"text-align: right;\">\n",
       "      <th></th>\n",
       "      <th>customer_id</th>\n",
       "      <th>gender</th>\n",
       "      <th>senior_citizen</th>\n",
       "      <th>partner</th>\n",
       "      <th>dependents</th>\n",
       "      <th>tenure</th>\n",
       "      <th>phone_service</th>\n",
       "      <th>multiple_lines</th>\n",
       "      <th>internet_service_type_id</th>\n",
       "      <th>online_security</th>\n",
       "      <th>...</th>\n",
       "      <th>streaming_movies</th>\n",
       "      <th>contract_type_id</th>\n",
       "      <th>paperless_billing</th>\n",
       "      <th>payment_type_id</th>\n",
       "      <th>monthly_charges</th>\n",
       "      <th>total_charges</th>\n",
       "      <th>churn</th>\n",
       "      <th>contract_type</th>\n",
       "      <th>internet_service_type</th>\n",
       "      <th>payment_type</th>\n",
       "    </tr>\n",
       "  </thead>\n",
       "  <tbody>\n",
       "    <tr>\n",
       "      <th>3281</th>\n",
       "      <td>7940-UQQUG</td>\n",
       "      <td>Female</td>\n",
       "      <td>0</td>\n",
       "      <td>Yes</td>\n",
       "      <td>Yes</td>\n",
       "      <td>64</td>\n",
       "      <td>Yes</td>\n",
       "      <td>Yes</td>\n",
       "      <td>2</td>\n",
       "      <td>Yes</td>\n",
       "      <td>...</td>\n",
       "      <td>Yes</td>\n",
       "      <td>2</td>\n",
       "      <td>Yes</td>\n",
       "      <td>3</td>\n",
       "      <td>104.40</td>\n",
       "      <td>6721.6</td>\n",
       "      <td>No</td>\n",
       "      <td>One year</td>\n",
       "      <td>Fiber optic</td>\n",
       "      <td>Bank transfer (automatic)</td>\n",
       "    </tr>\n",
       "    <tr>\n",
       "      <th>5909</th>\n",
       "      <td>6080-LNESI</td>\n",
       "      <td>Male</td>\n",
       "      <td>0</td>\n",
       "      <td>No</td>\n",
       "      <td>No</td>\n",
       "      <td>51</td>\n",
       "      <td>Yes</td>\n",
       "      <td>Yes</td>\n",
       "      <td>3</td>\n",
       "      <td>No internet service</td>\n",
       "      <td>...</td>\n",
       "      <td>No internet service</td>\n",
       "      <td>3</td>\n",
       "      <td>No</td>\n",
       "      <td>2</td>\n",
       "      <td>24.75</td>\n",
       "      <td>1234.6</td>\n",
       "      <td>No</td>\n",
       "      <td>Two year</td>\n",
       "      <td>None</td>\n",
       "      <td>Mailed check</td>\n",
       "    </tr>\n",
       "    <tr>\n",
       "      <th>3736</th>\n",
       "      <td>1685-BQULA</td>\n",
       "      <td>Female</td>\n",
       "      <td>0</td>\n",
       "      <td>No</td>\n",
       "      <td>No</td>\n",
       "      <td>40</td>\n",
       "      <td>Yes</td>\n",
       "      <td>Yes</td>\n",
       "      <td>2</td>\n",
       "      <td>No</td>\n",
       "      <td>...</td>\n",
       "      <td>No</td>\n",
       "      <td>1</td>\n",
       "      <td>Yes</td>\n",
       "      <td>3</td>\n",
       "      <td>93.40</td>\n",
       "      <td>3756.4</td>\n",
       "      <td>No</td>\n",
       "      <td>Month-to-month</td>\n",
       "      <td>Fiber optic</td>\n",
       "      <td>Bank transfer (automatic)</td>\n",
       "    </tr>\n",
       "  </tbody>\n",
       "</table>\n",
       "<p>3 rows × 24 columns</p>\n",
       "</div>"
      ],
      "text/plain": [
       "     customer_id  gender  senior_citizen partner dependents  tenure  \\\n",
       "3281  7940-UQQUG  Female               0     Yes        Yes      64   \n",
       "5909  6080-LNESI    Male               0      No         No      51   \n",
       "3736  1685-BQULA  Female               0      No         No      40   \n",
       "\n",
       "     phone_service multiple_lines  internet_service_type_id  \\\n",
       "3281           Yes            Yes                         2   \n",
       "5909           Yes            Yes                         3   \n",
       "3736           Yes            Yes                         2   \n",
       "\n",
       "          online_security  ...     streaming_movies contract_type_id  \\\n",
       "3281                  Yes  ...                  Yes                2   \n",
       "5909  No internet service  ...  No internet service                3   \n",
       "3736                   No  ...                   No                1   \n",
       "\n",
       "     paperless_billing payment_type_id monthly_charges  total_charges churn  \\\n",
       "3281               Yes               3          104.40         6721.6    No   \n",
       "5909                No               2           24.75         1234.6    No   \n",
       "3736               Yes               3           93.40         3756.4    No   \n",
       "\n",
       "       contract_type  internet_service_type               payment_type  \n",
       "3281        One year            Fiber optic  Bank transfer (automatic)  \n",
       "5909        Two year                   None               Mailed check  \n",
       "3736  Month-to-month            Fiber optic  Bank transfer (automatic)  \n",
       "\n",
       "[3 rows x 24 columns]"
      ]
     },
     "execution_count": 3,
     "metadata": {},
     "output_type": "execute_result"
    }
   ],
   "source": [
    "#peek at data\n",
    "original_df.sample(3)"
   ]
  },
  {
   "cell_type": "code",
   "execution_count": 4,
   "metadata": {},
   "outputs": [
    {
     "name": "stdout",
     "output_type": "stream",
     "text": [
      "-----shape------\n",
      "7043 rows and 24 columns\n",
      "---info---\n",
      "<class 'pandas.core.frame.DataFrame'>\n",
      "RangeIndex: 7043 entries, 0 to 7042\n",
      "Data columns (total 24 columns):\n",
      " #   Column                    Non-Null Count  Dtype  \n",
      "---  ------                    --------------  -----  \n",
      " 0   customer_id               7043 non-null   object \n",
      " 1   gender                    7043 non-null   object \n",
      " 2   senior_citizen            7043 non-null   int64  \n",
      " 3   partner                   7043 non-null   object \n",
      " 4   dependents                7043 non-null   object \n",
      " 5   tenure                    7043 non-null   int64  \n",
      " 6   phone_service             7043 non-null   object \n",
      " 7   multiple_lines            7043 non-null   object \n",
      " 8   internet_service_type_id  7043 non-null   int64  \n",
      " 9   online_security           7043 non-null   object \n",
      " 10  online_backup             7043 non-null   object \n",
      " 11  device_protection         7043 non-null   object \n",
      " 12  tech_support              7043 non-null   object \n",
      " 13  streaming_tv              7043 non-null   object \n",
      " 14  streaming_movies          7043 non-null   object \n",
      " 15  contract_type_id          7043 non-null   int64  \n",
      " 16  paperless_billing         7043 non-null   object \n",
      " 17  payment_type_id           7043 non-null   int64  \n",
      " 18  monthly_charges           7043 non-null   float64\n",
      " 19  total_charges             7043 non-null   object \n",
      " 20  churn                     7043 non-null   object \n",
      " 21  contract_type             7043 non-null   object \n",
      " 22  internet_service_type     7043 non-null   object \n",
      " 23  payment_type              7043 non-null   object \n",
      "dtypes: float64(1), int64(5), object(18)\n",
      "memory usage: 1.3+ MB\n",
      "None\n",
      "       senior_citizen       tenure  internet_service_type_id  \\\n",
      "count     7043.000000  7043.000000               7043.000000   \n",
      "mean         0.162147    32.371149                  1.872923   \n",
      "std          0.368612    24.559481                  0.737796   \n",
      "min          0.000000     0.000000                  1.000000   \n",
      "25%          0.000000     9.000000                  1.000000   \n",
      "50%          0.000000    29.000000                  2.000000   \n",
      "75%          0.000000    55.000000                  2.000000   \n",
      "max          1.000000    72.000000                  3.000000   \n",
      "\n",
      "       contract_type_id  payment_type_id  monthly_charges  \n",
      "count       7043.000000      7043.000000      7043.000000  \n",
      "mean           1.690473         2.315633        64.761692  \n",
      "std            0.833755         1.148907        30.090047  \n",
      "min            1.000000         1.000000        18.250000  \n",
      "25%            1.000000         1.000000        35.500000  \n",
      "50%            1.000000         2.000000        70.350000  \n",
      "75%            2.000000         3.000000        89.850000  \n",
      "max            3.000000         4.000000       118.750000  \n",
      "--nulls--\n",
      "customer_id                  0\n",
      "gender                       0\n",
      "senior_citizen               0\n",
      "partner                      0\n",
      "dependents                   0\n",
      "tenure                       0\n",
      "phone_service                0\n",
      "multiple_lines               0\n",
      "internet_service_type_id     0\n",
      "online_security              0\n",
      "online_backup                0\n",
      "device_protection            0\n",
      "tech_support                 0\n",
      "streaming_tv                 0\n",
      "streaming_movies             0\n",
      "contract_type_id             0\n",
      "paperless_billing            0\n",
      "payment_type_id              0\n",
      "monthly_charges              0\n",
      "total_charges               11\n",
      "churn                        0\n",
      "contract_type                0\n",
      "internet_service_type        0\n",
      "payment_type                 0\n",
      "dtype: int64\n"
     ]
    }
   ],
   "source": [
    "#get basic stats\n",
    "Aquire.summerize_df(original_df)"
   ]
  },
  {
   "cell_type": "markdown",
   "metadata": {},
   "source": [
    "#### Aquire - Takeaways\n",
    "- sql query used made duplicate columns, should remove redundant columns\n",
    "- total charges is seen as an object but needs to be a float\n",
    "- Each categorcial variable needs to be binary\n",
    "- Handle any nulls\n"
   ]
  },
  {
   "cell_type": "markdown",
   "metadata": {},
   "source": [
    "### Prepare Data"
   ]
  },
  {
   "cell_type": "code",
   "execution_count": 5,
   "metadata": {},
   "outputs": [],
   "source": [
    "#prep original data so it can be put into a binary_df\n",
    "original_df_copy = Prepare.prep_original(original_df)\n",
    "#create binary dataframe from orignal\n",
    "binary_df = Prepare.prep_for_model(original_df_copy)\n"
   ]
  },
  {
   "cell_type": "code",
   "execution_count": 6,
   "metadata": {},
   "outputs": [],
   "source": [
    "train, validate, test = Prepare.telco_split(binary_df)"
   ]
  },
  {
   "cell_type": "markdown",
   "metadata": {},
   "source": [
    "#### Process /Takeaways\n",
    "- Total charges was converted to a float type as opposed to an object type\n",
    "- 11 null values found in total charges, since total charges is just a running total and the people who were missing there running total were only customers with a tenure of 0, we can make the case that these are just new customers that havnt posted ther first payment yet,\n",
    "     * filling these values with a 0 will is justifiable as tenure is calculated by total charges divided by monthly charges\n",
    "- Each binary catagorical was converted to its binary counter part (1=male, 0=female , 1=yes, 0 = no).\n",
    "- Each multi catagorical was converted to binary using get_dummies, the original column was removed."
   ]
  },
  {
   "cell_type": "markdown",
   "metadata": {},
   "source": [
    "### Explore Data"
   ]
  },
  {
   "cell_type": "code",
   "execution_count": 7,
   "metadata": {},
   "outputs": [
    {
     "data": {
      "image/png": "[encoded data removed]",
      "text/plain": [
       "<Figure size 432x288 with 1 Axes>"
      ]
     },
     "metadata": {
      "needs_background": "light"
     },
     "output_type": "display_data"
    },
    {
     "data": {
      "image/png": "[encoded data removed]",
      "text/plain": [
       "<Figure size 432x288 with 1 Axes>"
      ]
     },
     "metadata": {
      "needs_background": "light"
     },
     "output_type": "display_data"
    },
    {
     "data": {
      "image/png": "[encoded data removed]",
      "text/plain": [
       "<Figure size 432x288 with 1 Axes>"
      ]
     },
     "metadata": {
      "needs_background": "light"
     },
     "output_type": "display_data"
    },
    {
     "data": {
      "image/png": "[encoded data removed]",
      "text/plain": [
       "<Figure size 432x288 with 1 Axes>"
      ]
     },
     "metadata": {
      "needs_background": "light"
     },
     "output_type": "display_data"
    },
    {
     "data": {
      "image/png": "[encoded data removed]",
      "text/plain": [
       "<Figure size 432x288 with 1 Axes>"
      ]
     },
     "metadata": {
      "needs_background": "light"
     },
     "output_type": "display_data"
    },
    {
     "data": {
      "image/png": "[encoded data removed]",
      "text/plain": [
       "<Figure size 432x288 with 1 Axes>"
      ]
     },
     "metadata": {
      "needs_background": "light"
     },
     "output_type": "display_data"
    },
    {
     "data": {
      "image/png": "[encoded data removed]",
      "text/plain": [
       "<Figure size 432x288 with 1 Axes>"
      ]
     },
     "metadata": {
      "needs_background": "light"
     },
     "output_type": "display_data"
    },
    {
     "data": {
      "image/png": "[encoded data removed]",
      "text/plain": [
       "<Figure size 432x288 with 1 Axes>"
      ]
     },
     "metadata": {
      "needs_background": "light"
     },
     "output_type": "display_data"
    },
    {
     "data": {
      "image/png": "[encoded data removed]",
      "text/plain": [
       "<Figure size 432x288 with 1 Axes>"
      ]
     },
     "metadata": {
      "needs_background": "light"
     },
     "output_type": "display_data"
    },
    {
     "data": {
      "image/png": "[encoded data removed]",
      "text/plain": [
       "<Figure size 432x288 with 1 Axes>"
      ]
     },
     "metadata": {
      "needs_background": "light"
     },
     "output_type": "display_data"
    },
    {
     "data": {
      "image/png": "[encoded data removed]",
      "text/plain": [
       "<Figure size 432x288 with 1 Axes>"
      ]
     },
     "metadata": {
      "needs_background": "light"
     },
     "output_type": "display_data"
    },
    {
     "data": {
      "image/png": "[encoded data removed]",
      "text/plain": [
       "<Figure size 432x288 with 1 Axes>"
      ]
     },
     "metadata": {
      "needs_background": "light"
     },
     "output_type": "display_data"
    },
    {
     "data": {
      "image/png": "[encoded data removed]",
      "text/plain": [
       "<Figure size 432x288 with 1 Axes>"
      ]
     },
     "metadata": {
      "needs_background": "light"
     },
     "output_type": "display_data"
    },
    {
     "data": {
      "image/png": "[encoded data removed]",
      "text/plain": [
       "<Figure size 432x288 with 1 Axes>"
      ]
     },
     "metadata": {
      "needs_background": "light"
     },
     "output_type": "display_data"
    },
    {
     "data": {
      "image/png": "[encoded data removed]",
      "text/plain": [
       "<Figure size 432x288 with 1 Axes>"
      ]
     },
     "metadata": {
      "needs_background": "light"
     },
     "output_type": "display_data"
    },
    {
     "data": {
      "image/png": "[encoded data removed]",
      "text/plain": [
       "<Figure size 432x288 with 1 Axes>"
      ]
     },
     "metadata": {
      "needs_background": "light"
     },
     "output_type": "display_data"
    },
    {
     "data": {
      "image/png": "[encoded data removed]",
      "text/plain": [
       "<Figure size 432x288 with 1 Axes>"
      ]
     },
     "metadata": {
      "needs_background": "light"
     },
     "output_type": "display_data"
    },
    {
     "data": {
      "image/png": "[encoded data removed]",
      "text/plain": [
       "<Figure size 432x288 with 1 Axes>"
      ]
     },
     "metadata": {
      "needs_background": "light"
     },
     "output_type": "display_data"
    },
    {
     "data": {
      "image/png": "[encoded data removed]",
      "text/plain": [
       "<Figure size 432x288 with 1 Axes>"
      ]
     },
     "metadata": {
      "needs_background": "light"
     },
     "output_type": "display_data"
    },
    {
     "data": {
      "image/png": "[encoded data removed]",
      "text/plain": [
       "<Figure size 432x288 with 1 Axes>"
      ]
     },
     "metadata": {
      "needs_background": "light"
     },
     "output_type": "display_data"
    },
    {
     "data": {
      "image/png": "[encoded data removed]",
      "text/plain": [
       "<Figure size 432x288 with 1 Axes>"
      ]
     },
     "metadata": {
      "needs_background": "light"
     },
     "output_type": "display_data"
    }
   ],
   "source": [
    "#catagorical variables in relation to churn\n",
    "Explore.get_cat_stats(train)"
   ]
  },
  {
   "cell_type": "code",
   "execution_count": 8,
   "metadata": {},
   "outputs": [
    {
     "data": {
      "image/png": "[encoded data removed]",
      "text/plain": [
       "<Figure size 432x288 with 1 Axes>"
      ]
     },
     "metadata": {
      "needs_background": "light"
     },
     "output_type": "display_data"
    },
    {
     "data": {
      "image/png": "[encoded data removed]",
      "text/plain": [
       "<Figure size 432x288 with 1 Axes>"
      ]
     },
     "metadata": {
      "needs_background": "light"
     },
     "output_type": "display_data"
    },
    {
     "data": {
      "image/png": "[encoded data removed]",
      "text/plain": [
       "<Figure size 432x288 with 1 Axes>"
      ]
     },
     "metadata": {
      "needs_background": "light"
     },
     "output_type": "display_data"
    },
    {
     "data": {
      "image/png": "[encoded data removed]",
      "text/plain": [
       "<Figure size 432x288 with 1 Axes>"
      ]
     },
     "metadata": {
      "needs_background": "light"
     },
     "output_type": "display_data"
    }
   ],
   "source": [
    "Explore.get_con_stats(binary_df)"
   ]
  },
  {
   "cell_type": "code",
   "execution_count": 9,
   "metadata": {},
   "outputs": [
    {
     "data": {
      "text/plain": [
       "<AxesSubplot:title={'center':'Feautures  Correlating with Churn'}>"
      ]
     },
     "execution_count": 9,
     "metadata": {},
     "output_type": "execute_result"
    },
    {
     "data": {
      "image/png": "[encoded data removed]",
      "text/plain": [
       "<Figure size 1080x864 with 2 Axes>"
      ]
     },
     "metadata": {
      "needs_background": "light"
     },
     "output_type": "display_data"
    }
   ],
   "source": [
    "Explore.get_churn_heatmap(binary_df)"
   ]
  },
  {
   "cell_type": "markdown",
   "metadata": {},
   "source": [
    "#### Takeaways\n",
    "- Choosing  MVPs for churn\n",
    "    * positive correlation, top picks = fiber optic, electronic_check, monthly_charges\n",
    "    * negetive correlation, top picks = tenure, two_year, none(no_internet), One year\n",
    "- Testing for corralation with statistical tests\n",
    "     * alpha = 0.01"
   ]
  },
  {
   "cell_type": "markdown",
   "metadata": {},
   "source": [
    "##### Statistical Analysis"
   ]
  },
  {
   "cell_type": "code",
   "execution_count": 10,
   "metadata": {},
   "outputs": [],
   "source": [
    "alpha = 0.01"
   ]
  },
  {
   "cell_type": "code",
   "execution_count": 11,
   "metadata": {},
   "outputs": [],
   "source": [
    "chi_var = ['Fiber optic', 'Electronic check', 'Two year', 'None','One year']\n",
    "t_test = ['tenure', 'monthly_charges']"
   ]
  },
  {
   "cell_type": "code",
   "execution_count": 12,
   "metadata": {},
   "outputs": [
    {
     "name": "stdout",
     "output_type": "stream",
     "text": [
      "churn           0     1\n",
      "Fiber optic            \n",
      "0            3375   572\n",
      "1            1799  1297\n",
      "Null Hyothesis: Fiber optic is independent to churn\n",
      "Alternative hypothesis: Fiber optic is dependent to churn\n",
      "p value 4.940476033744708e-147 is less than alpha 0.01 , we reject our null hypothesis\n",
      "-------------------------------------\n",
      "churn                0     1\n",
      "Electronic check            \n",
      "0                 3880   798\n",
      "1                 1294  1071\n",
      "Null Hyothesis: Electronic check is independent to churn\n",
      "Alternative hypothesis: Electronic check is dependent to churn\n",
      "p value 2.5280301640753998e-141 is less than alpha 0.01 , we reject our null hypothesis\n",
      "-------------------------------------\n",
      "churn        0     1\n",
      "Two year            \n",
      "0         3527  1821\n",
      "1         1647    48\n",
      "Null Hyothesis: Two year is independent to churn\n",
      "Alternative hypothesis: Two year is dependent to churn\n",
      "p value 1.3376802517066984e-141 is less than alpha 0.01 , we reject our null hypothesis\n",
      "-------------------------------------\n",
      "churn     0     1\n",
      "None             \n",
      "0      3761  1756\n",
      "1      1413   113\n",
      "Null Hyothesis: None is independent to churn\n",
      "Alternative hypothesis: None is dependent to churn\n",
      "p value 2.9203003727695145e-81 is less than alpha 0.01 , we reject our null hypothesis\n",
      "-------------------------------------\n",
      "churn        0     1\n",
      "One year            \n",
      "0         3867  1703\n",
      "1         1307   166\n",
      "Null Hyothesis: One year is independent to churn\n",
      "Alternative hypothesis: One year is dependent to churn\n",
      "p value 3.8313271533892435e-50 is less than alpha 0.01 , we reject our null hypothesis\n",
      "-------------------------------------\n"
     ]
    }
   ],
   "source": [
    "#runs a chi-squared contengecy evaluation to see correlation between 2 catagorical variables\n",
    "Explore.get_chi_test(chi_var, binary_df, alpha)"
   ]
  },
  {
   "cell_type": "code",
   "execution_count": 13,
   "metadata": {},
   "outputs": [
    {
     "name": "stdout",
     "output_type": "stream",
     "text": [
      "Null Hypothesis: tenure is not correlated to churn \n",
      "Alternative hypothesis:  tenure is correlated to churn \n",
      "p value 0.0 is less than alpha 0.01 , we reject our null hypothesis\n",
      "-------------------------------------\n",
      "Null Hypothesis: monthly_charges is not correlated to churn \n",
      "Alternative hypothesis:  monthly_charges is correlated to churn \n",
      "p value 0.0 is less than alpha 0.01 , we reject our null hypothesis\n",
      "-------------------------------------\n"
     ]
    }
   ],
   "source": [
    "#looks at a 2-tailed T test to measure correlation with continous vs catergorical variables\n",
    "Explore.get_t_test(t_test, binary_df, alpha)"
   ]
  },
  {
   "cell_type": "markdown",
   "metadata": {},
   "source": [
    "#### Takeaways\n",
    "-  All variables can be used as they all rejected the their null hypothesis."
   ]
  },
  {
   "cell_type": "markdown",
   "metadata": {},
   "source": [
    "## Model Data "
   ]
  },
  {
   "cell_type": "code",
   "execution_count": 14,
   "metadata": {},
   "outputs": [
    {
     "data": {
      "text/plain": [
       "((3943, 25), (1691, 25), (1409, 25))"
      ]
     },
     "execution_count": 14,
     "metadata": {},
     "output_type": "execute_result"
    }
   ],
   "source": [
    "train.shape , validate.shape, test.shape"
   ]
  },
  {
   "cell_type": "code",
   "execution_count": 15,
   "metadata": {},
   "outputs": [],
   "source": [
    "x_col = ['Fiber optic','Electronic check', 'monthly_charges', 'tenure', 'Two year', 'None','One year']\n",
    "y_col = 'churn'\n",
    "\n",
    "X_train = train[x_col]\n",
    "y_train = train[y_col]\n",
    "\n",
    "X_validate = validate[x_col]\n",
    "y_validate = validate[y_col]\n",
    "\n",
    "X_test = test[x_col]\n",
    "y_test = test[y_col]"
   ]
  },
  {
   "cell_type": "markdown",
   "metadata": {},
   "source": [
    "##### Pre-Modeling steps\n",
    "- pick a positive. our positive  for this case is 0 or for customers to not churn\n",
    "- choose what measure takes priority\n",
    "    * Priority measure is Recall. For this specific data, the worst case scenerio is to predict someone to churn when they havnt left. We dont want to miss out on high risk customers who should statistically churn when they haven't yet.\n",
    "    * Focusing on retaining customers takes priority over people who have already decided to leave.\n",
    "    * for choosing a winning model, i would take the least overfit model with the highest recall percentage.\n",
    "   "
   ]
  },
  {
   "cell_type": "markdown",
   "metadata": {},
   "source": [
    "### Baseline Statistics"
   ]
  },
  {
   "cell_type": "code",
   "execution_count": 16,
   "metadata": {},
   "outputs": [],
   "source": [
    "Baseline = DummyClassifier(strategy = 'constant' , constant=train.churn.mode())"
   ]
  },
  {
   "cell_type": "code",
   "execution_count": 17,
   "metadata": {},
   "outputs": [
    {
     "name": "stdout",
     "output_type": "stream",
     "text": [
      "Train model Accuracy: 73.47198 % | Validate model accuracy: 73.44766 % \n",
      "Train model Recall: 100.00000 % | Validate model Recall: 100.00000 %\n",
      "Train model Precision: 73.47198 % | Validate model Precision: 73.44766 %\n",
      "------------------------------------------------------------------------\n",
      "---------- More Details ------------\n",
      "-----Train Classification report----\n",
      "                     0       1  accuracy    macro avg  weighted avg\n",
      "precision     0.734720     0.0   0.73472     0.367360      0.539813\n",
      "recall        1.000000     0.0   0.73472     0.500000      0.734720\n",
      "f1-score      0.847076     0.0   0.73472     0.423538      0.622363\n",
      "support    2897.000000  1046.0   0.73472  3943.000000   3943.000000\n",
      "------Validate Classification report-----\n",
      "                     0      1  accuracy    macro avg  weighted avg\n",
      "precision     0.734477    0.0  0.734477     0.367238      0.539456\n",
      "recall        1.000000    0.0  0.734477     0.500000      0.734477\n",
      "f1-score      0.846914    0.0  0.734477     0.423457      0.622039\n",
      "support    1242.000000  449.0  0.734477  1691.000000   1691.000000\n",
      "-----Train Confusion Matrix------\n",
      "               Actual No Churn  Actual Churn \n",
      "Pred No Churn             2897           1046\n",
      "Pred Churn                   0              0\n",
      "-----Validation Confusion Matrix------\n",
      "               Actual No Churn  Actual Churn \n",
      "Pred No Churn             1242            449\n",
      "Pred Churn                   0              0\n"
     ]
    }
   ],
   "source": [
    "#get our Baseline information\n",
    "Model.train_validate_results(Baseline, X_train, y_train, X_validate, y_validate, details=True)"
   ]
  },
  {
   "cell_type": "markdown",
   "metadata": {},
   "source": [
    "## Logistic Regression"
   ]
  },
  {
   "cell_type": "code",
   "execution_count": 18,
   "metadata": {},
   "outputs": [],
   "source": [
    "Logistic_models = [LogisticRegression(C=0.1),\n",
    "                   LogisticRegression(C=1),\n",
    "                   LogisticRegression(random_state=123)]"
   ]
  },
  {
   "cell_type": "code",
   "execution_count": 19,
   "metadata": {},
   "outputs": [
    {
     "name": "stdout",
     "output_type": "stream",
     "text": [
      "Train model Accuracy: 79.48263 % | Validate model accuracy: 78.35600 % \n",
      "Train model Recall: 90.71453 % | Validate model Recall: 89.53301 %\n",
      "Train model Precision: 82.95455 % | Validate model Precision: 82.49258 %\n",
      "------------------------------------------------------------------------\n",
      "Train model Accuracy: 79.53335 % | Validate model accuracy: 77.94205 % \n",
      "Train model Recall: 90.40387 % | Validate model Recall: 88.72786 %\n",
      "Train model Precision: 83.19568 % | Validate model Precision: 82.54682 %\n",
      "------------------------------------------------------------------------\n",
      "Train model Accuracy: 79.53335 % | Validate model accuracy: 77.94205 % \n",
      "Train model Recall: 90.40387 % | Validate model Recall: 88.72786 %\n",
      "Train model Precision: 83.19568 % | Validate model Precision: 82.54682 %\n",
      "------------------------------------------------------------------------\n"
     ]
    }
   ],
   "source": [
    "for i in Logistic_models:\n",
    "    Model.train_validate_results(i, X_train, y_train, X_validate, y_validate)"
   ]
  },
  {
   "cell_type": "markdown",
   "metadata": {},
   "source": [
    "##### The models preform relatively the same, but model 1 has the best recall. if logistic regression is the best model to use, we will use model one."
   ]
  },
  {
   "cell_type": "code",
   "execution_count": 20,
   "metadata": {},
   "outputs": [
    {
     "name": "stdout",
     "output_type": "stream",
     "text": [
      "Train model Accuracy: 79.48263 % | Validate model accuracy: 78.35600 % \n",
      "Train model Recall: 90.71453 % | Validate model Recall: 89.53301 %\n",
      "Train model Precision: 82.95455 % | Validate model Precision: 82.49258 %\n",
      "------------------------------------------------------------------------\n",
      "---------- More Details ------------\n",
      "-----Train Classification report----\n",
      "                     0            1  accuracy    macro avg  weighted avg\n",
      "precision     0.829545     0.652903  0.794826     0.741224      0.782686\n",
      "recall        0.907145     0.483748  0.794826     0.695446      0.794826\n",
      "f1-score      0.866612     0.555739  0.794826     0.711175      0.784143\n",
      "support    2897.000000  1046.000000  0.794826  3943.000000   3943.000000\n",
      "------Validate Classification report-----\n",
      "                     0           1  accuracy    macro avg  weighted avg\n",
      "precision     0.824926    0.620991   0.78356     0.722959      0.770776\n",
      "recall        0.895330    0.474388   0.78356     0.684859      0.783560\n",
      "f1-score      0.858687    0.537879   0.78356     0.698283      0.773505\n",
      "support    1242.000000  449.000000   0.78356  1691.000000   1691.000000\n",
      "-----Train Confusion Matrix------\n",
      "               Actual No Churn  Actual Churn \n",
      "Pred No Churn             2628            540\n",
      "Pred Churn                 269            506\n",
      "-----Validation Confusion Matrix------\n",
      "               Actual No Churn  Actual Churn \n",
      "Pred No Churn             1112            236\n",
      "Pred Churn                 130            213\n"
     ]
    }
   ],
   "source": [
    "Model.train_validate_results(Logistic_models[0],X_train, y_train, X_validate, y_validate, details=True )"
   ]
  },
  {
   "cell_type": "markdown",
   "metadata": {},
   "source": [
    "## Decision Tree"
   ]
  },
  {
   "cell_type": "code",
   "execution_count": 21,
   "metadata": {},
   "outputs": [],
   "source": [
    "Decision_tree_models = [DecisionTreeClassifier(max_depth=5),\n",
    "                        DecisionTreeClassifier(max_depth=3, max_leaf_nodes=250),\n",
    "                        DecisionTreeClassifier(max_depth=10)]"
   ]
  },
  {
   "cell_type": "code",
   "execution_count": 22,
   "metadata": {},
   "outputs": [
    {
     "name": "stdout",
     "output_type": "stream",
     "text": [
      "Train model Accuracy: 80.39564 % | Validate model accuracy: 77.82377 % \n",
      "Train model Recall: 91.57749 % | Validate model Recall: 89.45250 %\n",
      "Train model Precision: 83.37524 % | Validate model Precision: 81.99262 %\n",
      "------------------------------------------------------------------------\n",
      "Train model Accuracy: 79.45727 % | Validate model accuracy: 78.29687 % \n",
      "Train model Recall: 93.40697 % | Validate model Recall: 92.02899 %\n",
      "Train model Precision: 81.38346 % | Validate model Precision: 81.00638 %\n",
      "------------------------------------------------------------------------\n",
      "Train model Accuracy: 86.73599 % | Validate model accuracy: 75.45831 % \n",
      "Train model Recall: 94.51156 % | Validate model Recall: 86.23188 %\n",
      "Train model Precision: 88.26564 % | Validate model Precision: 81.44487 %\n",
      "------------------------------------------------------------------------\n"
     ]
    }
   ],
   "source": [
    "for i in Decision_tree_models:\n",
    "    Model.train_validate_results(i, X_train, y_train, X_validate,y_validate)"
   ]
  },
  {
   "cell_type": "markdown",
   "metadata": {},
   "source": [
    "##### Model 3 has the highest Train accuracy but is too overfit for the model to be used with certainty. even though model 2 is slightly overfit in terms of accuracy, if a mode were to be, since recall is priority we will use model 2"
   ]
  },
  {
   "cell_type": "code",
   "execution_count": 23,
   "metadata": {
    "tags": []
   },
   "outputs": [
    {
     "name": "stdout",
     "output_type": "stream",
     "text": [
      "Train model Accuracy: 79.45727 % | Validate model accuracy: 78.29687 % \n",
      "Train model Recall: 93.40697 % | Validate model Recall: 92.02899 %\n",
      "Train model Precision: 81.38346 % | Validate model Precision: 81.00638 %\n",
      "------------------------------------------------------------------------\n",
      "---------- More Details ------------\n",
      "-----Train Classification report----\n",
      "                     0            1  accuracy    macro avg  weighted avg\n",
      "precision     0.813835     0.690939  0.794573     0.752387      0.781233\n",
      "recall        0.934070     0.408222  0.794573     0.671146      0.794573\n",
      "f1-score      0.869817     0.513221  0.794573     0.691519      0.775219\n",
      "support    2897.000000  1046.000000  0.794573  3943.000000   3943.000000\n",
      "------Validate Classification report-----\n",
      "                     0           1  accuracy    macro avg  weighted avg\n",
      "precision     0.810064    0.646429  0.782969     0.728246      0.766615\n",
      "recall        0.920290    0.403118  0.782969     0.661704      0.782969\n",
      "f1-score      0.861666    0.496571  0.782969     0.679118      0.764725\n",
      "support    1242.000000  449.000000  0.782969  1691.000000   1691.000000\n",
      "-----Train Confusion Matrix------\n",
      "               Actual No Churn  Actual Churn \n",
      "Pred No Churn             2706            619\n",
      "Pred Churn                 191            427\n",
      "-----Validation Confusion Matrix------\n",
      "               Actual No Churn  Actual Churn \n",
      "Pred No Churn             1143            268\n",
      "Pred Churn                  99            181\n"
     ]
    }
   ],
   "source": [
    "Model.train_validate_results(Decision_tree_models[1],X_train, y_train, X_validate, y_validate, details=True )"
   ]
  },
  {
   "cell_type": "markdown",
   "metadata": {
    "tags": []
   },
   "source": [
    "## Random Forest"
   ]
  },
  {
   "cell_type": "code",
   "execution_count": 24,
   "metadata": {},
   "outputs": [],
   "source": [
    "Random_Forest_models = [RandomForestClassifier(max_depth=4, max_leaf_nodes= 150),\n",
    "                        DecisionTreeClassifier(max_depth=5, max_leaf_nodes= 250),\n",
    "                        DecisionTreeClassifier(max_depth=10)]"
   ]
  },
  {
   "cell_type": "code",
   "execution_count": 25,
   "metadata": {},
   "outputs": [
    {
     "name": "stdout",
     "output_type": "stream",
     "text": [
      "Train model Accuracy: 79.76160 % | Validate model accuracy: 78.47428 % \n",
      "Train model Recall: 93.54505 % | Validate model Recall: 92.35105 %\n",
      "Train model Precision: 81.60193 % | Validate model Precision: 81.00282 %\n",
      "------------------------------------------------------------------------\n",
      "Train model Accuracy: 80.39564 % | Validate model accuracy: 77.82377 % \n",
      "Train model Recall: 91.57749 % | Validate model Recall: 89.45250 %\n",
      "Train model Precision: 83.37524 % | Validate model Precision: 81.99262 %\n",
      "------------------------------------------------------------------------\n",
      "Train model Accuracy: 86.73599 % | Validate model accuracy: 75.45831 % \n",
      "Train model Recall: 94.54608 % | Validate model Recall: 86.23188 %\n",
      "Train model Precision: 88.24098 % | Validate model Precision: 81.44487 %\n",
      "------------------------------------------------------------------------\n"
     ]
    }
   ],
   "source": [
    "for i in Random_Forest_models:\n",
    "    Model.train_validate_results(i, X_train, y_train, X_validate,y_validate)"
   ]
  },
  {
   "cell_type": "markdown",
   "metadata": {},
   "source": [
    "##### Model 3 has the highest Train accuracy but is too overfit for the model to be used with certainty. even though model 1 is slightly overfit in terms of accuracy, if a mode were to be, since recall is priority we will use model 1"
   ]
  },
  {
   "cell_type": "code",
   "execution_count": 26,
   "metadata": {
    "tags": []
   },
   "outputs": [
    {
     "name": "stdout",
     "output_type": "stream",
     "text": [
      "Train model Accuracy: 79.78696 % | Validate model accuracy: 78.53341 % \n",
      "Train model Recall: 93.44149 % | Validate model Recall: 92.27053 %\n",
      "Train model Precision: 81.68377 % | Validate model Precision: 81.10403 %\n",
      "------------------------------------------------------------------------\n",
      "---------- More Details ------------\n",
      "-----Train Classification report----\n",
      "                     0            1  accuracy    macro avg  weighted avg\n",
      "precision     0.816838     0.697933   0.79787     0.757385      0.785295\n",
      "recall        0.934415     0.419694   0.79787     0.677054      0.797870\n",
      "f1-score      0.871679     0.524179   0.79787     0.697929      0.779494\n",
      "support    2897.000000  1046.000000   0.79787  3943.000000   3943.000000\n",
      "------Validate Classification report-----\n",
      "                     0           1  accuracy    macro avg  weighted avg\n",
      "precision     0.811040    0.654676  0.785334     0.732858      0.769522\n",
      "recall        0.922705    0.405345  0.785334     0.664025      0.785334\n",
      "f1-score      0.863277    0.500688  0.785334     0.681982      0.767001\n",
      "support    1242.000000  449.000000  0.785334  1691.000000   1691.000000\n",
      "-----Train Confusion Matrix------\n",
      "               Actual No Churn  Actual Churn \n",
      "Pred No Churn             2707            607\n",
      "Pred Churn                 190            439\n",
      "-----Validation Confusion Matrix------\n",
      "               Actual No Churn  Actual Churn \n",
      "Pred No Churn             1146            267\n",
      "Pred Churn                  96            182\n"
     ]
    }
   ],
   "source": [
    " Model.train_validate_results(Random_Forest_models[0], X_train, y_train, X_validate,y_validate, details=True)"
   ]
  },
  {
   "cell_type": "markdown",
   "metadata": {},
   "source": [
    "## K-Nearest Neighbor "
   ]
  },
  {
   "cell_type": "code",
   "execution_count": 27,
   "metadata": {
    "tags": []
   },
   "outputs": [],
   "source": [
    "Kn_models = [KNeighborsClassifier(n_neighbors=5),\n",
    "             KNeighborsClassifier(n_neighbors=10),\n",
    "             KNeighborsClassifier(n_neighbors=40)]"
   ]
  },
  {
   "cell_type": "code",
   "execution_count": 28,
   "metadata": {},
   "outputs": [
    {
     "name": "stdout",
     "output_type": "stream",
     "text": [
      "Train model Accuracy: 83.36292 % | Validate model accuracy: 74.45299 % \n",
      "Train model Recall: 91.37038 % | Validate model Recall: 85.66828 %\n",
      "Train model Precision: 86.70160 % | Validate model Precision: 80.72838 %\n",
      "------------------------------------------------------------------------\n",
      "Train model Accuracy: 82.32310 % | Validate model accuracy: 76.10881 % \n",
      "Train model Recall: 93.71764 % | Validate model Recall: 89.85507 %\n",
      "Train model Precision: 84.05573 % | Validate model Precision: 80.05739 %\n",
      "------------------------------------------------------------------------\n",
      "Train model Accuracy: 79.81233 % | Validate model accuracy: 77.94205 % \n",
      "Train model Recall: 92.47497 % | Validate model Recall: 90.74074 %\n",
      "Train model Precision: 82.25361 % | Validate model Precision: 81.37184 %\n",
      "------------------------------------------------------------------------\n"
     ]
    }
   ],
   "source": [
    "for i in Kn_models:\n",
    "     Model.train_validate_results(i, X_train, y_train, X_validate,y_validate)"
   ]
  },
  {
   "cell_type": "markdown",
   "metadata": {},
   "source": [
    "#### Model 1 has the highest Train accuracy but is too overfit for the model to be used with certainty. even though model 3 is slightly overfit in terms of accuracy, if a mode were to be, since recall is priority we will use model 3"
   ]
  },
  {
   "cell_type": "code",
   "execution_count": 29,
   "metadata": {},
   "outputs": [
    {
     "name": "stdout",
     "output_type": "stream",
     "text": [
      "Train model Accuracy: 79.81233 % | Validate model accuracy: 77.94205 % \n",
      "Train model Recall: 92.47497 % | Validate model Recall: 90.74074 %\n",
      "Train model Precision: 82.25361 % | Validate model Precision: 81.37184 %\n",
      "------------------------------------------------------------------------\n",
      "---------- More Details ------------\n",
      "-----Train Classification report----\n",
      "                     0            1  accuracy    macro avg  weighted avg\n",
      "precision     0.822536     0.682216  0.798123     0.752376      0.785312\n",
      "recall        0.924750     0.447419  0.798123     0.686084      0.798123\n",
      "f1-score      0.870653     0.540416  0.798123     0.705534      0.783048\n",
      "support    2897.000000  1046.000000  0.798123  3943.000000   3943.000000\n",
      "------Validate Classification report-----\n",
      "                     0           1  accuracy    macro avg  weighted avg\n",
      "precision     0.813718    0.624183   0.77942     0.718951      0.763392\n",
      "recall        0.907407    0.425390   0.77942     0.666399      0.779420\n",
      "f1-score      0.858013    0.505960   0.77942     0.681987      0.764535\n",
      "support    1242.000000  449.000000   0.77942  1691.000000   1691.000000\n",
      "-----Train Confusion Matrix------\n",
      "               Actual No Churn  Actual Churn \n",
      "Pred No Churn             2679            578\n",
      "Pred Churn                 218            468\n",
      "-----Validation Confusion Matrix------\n",
      "               Actual No Churn  Actual Churn \n",
      "Pred No Churn             1127            258\n",
      "Pred Churn                 115            191\n"
     ]
    }
   ],
   "source": [
    " Model.train_validate_results(Kn_models[2], X_train, y_train, X_validate,y_validate, details=True)"
   ]
  },
  {
   "cell_type": "markdown",
   "metadata": {},
   "source": [
    "### Train/Validate Takeaways"
   ]
  },
  {
   "cell_type": "markdown",
   "metadata": {},
   "source": [
    "- After comparing all the training models, Random Forest handled best with a 92% recall rate\n",
    "- we will use our best random forest model to run on our test data"
   ]
  },
  {
   "cell_type": "markdown",
   "metadata": {},
   "source": [
    "### Test"
   ]
  },
  {
   "cell_type": "code",
   "execution_count": 30,
   "metadata": {},
   "outputs": [
    {
     "name": "stdout",
     "output_type": "stream",
     "text": [
      "Test model Accuracy: 79.13414 %\n",
      "Test model Recall: 92.56039 % \n",
      "Test model Precision: 81.53191 %\n",
      "---------- More Details ------------\n",
      "-----Test Classification report----\n",
      "                     0           1  accuracy    macro avg  weighted avg\n",
      "precision     0.815319    0.670940  0.791341     0.743130      0.776996\n",
      "recall        0.925604    0.419786  0.791341     0.672695      0.791341\n",
      "f1-score      0.866968    0.516447  0.791341     0.691708      0.773927\n",
      "support    1035.000000  374.000000  0.791341  1409.000000   1409.000000\n",
      "-----Test Confusion Matrix------\n",
      "               Actual No Churn  Actual Churn \n",
      "Pred No Churn              958            217\n",
      "Pred Churn                  77            157\n"
     ]
    }
   ],
   "source": [
    "Model.test_results(Random_Forest_models[0],X_test, y_test, X_train, y_train, details=True)"
   ]
  },
  {
   "cell_type": "code",
   "execution_count": null,
   "metadata": {},
   "outputs": [],
   "source": []
  },
  {
   "cell_type": "markdown",
   "metadata": {},
   "source": [
    "### Test Takeaways"
   ]
  },
  {
   "cell_type": "markdown",
   "metadata": {},
   "source": [
    "- The machine learning model can predict who stays with the company 93% of the time based off our churn mvps alone"
   ]
  },
  {
   "cell_type": "markdown",
   "metadata": {},
   "source": [
    "## Churn Probabilities\n",
    "- After finding our best model, we can apply it to our complete dataframe in order to know the probability of each customer churning"
   ]
  },
  {
   "cell_type": "code",
   "execution_count": 31,
   "metadata": {},
   "outputs": [],
   "source": [
    "customer_results = Model.get_customer_predictions(Random_Forest_models[0], binary_df, binary_df[x_col])"
   ]
  },
  {
   "cell_type": "code",
   "execution_count": 32,
   "metadata": {},
   "outputs": [],
   "source": [
    "customer_results = customer_results.sort_values(by='churn probability')\n",
    "customer_results.to_csv('Churn Probability.csv')"
   ]
  },
  {
   "cell_type": "markdown",
   "metadata": {},
   "source": [
    "- This information can be very useful to get a deliverable of customers who have a high risk of churning, but havent. This allows telco to make the nessecary changes to make sure high risk customers dont churn. "
   ]
  },
  {
   "cell_type": "code",
   "execution_count": 33,
   "metadata": {},
   "outputs": [],
   "source": [
    "high_risk_percent = 65\n",
    "high_risk_customers = customer_results[(customer_results['churn'] == 0) &(customer_results['churn probability'] >= high_risk_percent)]"
   ]
  },
  {
   "cell_type": "code",
   "execution_count": 34,
   "metadata": {},
   "outputs": [
    {
     "data": {
      "text/html": [
       "<div>\n",
       "<style scoped>\n",
       "    .dataframe tbody tr th:only-of-type {\n",
       "        vertical-align: middle;\n",
       "    }\n",
       "\n",
       "    .dataframe tbody tr th {\n",
       "        vertical-align: top;\n",
       "    }\n",
       "\n",
       "    .dataframe thead th {\n",
       "        text-align: right;\n",
       "    }\n",
       "</style>\n",
       "<table border=\"1\" class=\"dataframe\">\n",
       "  <thead>\n",
       "    <tr style=\"text-align: right;\">\n",
       "      <th></th>\n",
       "      <th>customer_id</th>\n",
       "      <th>churn</th>\n",
       "      <th>churn prediction</th>\n",
       "      <th>churn probability</th>\n",
       "    </tr>\n",
       "  </thead>\n",
       "  <tbody>\n",
       "    <tr>\n",
       "      <th>4833</th>\n",
       "      <td>6645-MXQJT</td>\n",
       "      <td>0</td>\n",
       "      <td>1</td>\n",
       "      <td>67.479521</td>\n",
       "    </tr>\n",
       "    <tr>\n",
       "      <th>4442</th>\n",
       "      <td>4853-OITSN</td>\n",
       "      <td>0</td>\n",
       "      <td>1</td>\n",
       "      <td>65.280322</td>\n",
       "    </tr>\n",
       "    <tr>\n",
       "      <th>4458</th>\n",
       "      <td>4927-WWOOZ</td>\n",
       "      <td>0</td>\n",
       "      <td>1</td>\n",
       "      <td>67.479521</td>\n",
       "    </tr>\n",
       "    <tr>\n",
       "      <th>5479</th>\n",
       "      <td>9840-EFJQB</td>\n",
       "      <td>0</td>\n",
       "      <td>1</td>\n",
       "      <td>70.769960</td>\n",
       "    </tr>\n",
       "    <tr>\n",
       "      <th>4829</th>\n",
       "      <td>6630-UJZMY</td>\n",
       "      <td>0</td>\n",
       "      <td>1</td>\n",
       "      <td>65.480114</td>\n",
       "    </tr>\n",
       "  </tbody>\n",
       "</table>\n",
       "</div>"
      ],
      "text/plain": [
       "     customer_id  churn  churn prediction  churn probability\n",
       "4833  6645-MXQJT      0                 1          67.479521\n",
       "4442  4853-OITSN      0                 1          65.280322\n",
       "4458  4927-WWOOZ      0                 1          67.479521\n",
       "5479  9840-EFJQB      0                 1          70.769960\n",
       "4829  6630-UJZMY      0                 1          65.480114"
      ]
     },
     "execution_count": 34,
     "metadata": {},
     "output_type": "execute_result"
    }
   ],
   "source": [
    "high_risk_customers.to_csv(\"high_risk_customers.csv\")\n",
    "high_risk_customers.sample(5)"
   ]
  },
  {
   "cell_type": "markdown",
   "metadata": {},
   "source": [
    "## Conclusion / Next steps\n",
    "- Based on the drivers picked that have a correlation to churn, our machine learning algorithms were able to predict whether a customer would stay about 93% of the time. \n",
    "\n",
    "- Knowing the statistical probabilities of churn can allow us to dig deeper in\n",
    "    * Making sure we have the ability to retain our high risk customers (customers who should be churning but arent)\n",
    "    * furthering research into looking at customers who left without being of high risk, to see if their underlying troubles with the company had to do with the drivers specified.\n",
    "    \n"
   ]
  },
  {
   "cell_type": "code",
   "execution_count": null,
   "metadata": {},
   "outputs": [],
   "source": []
  }
 ],
 "metadata": {
  "kernelspec": {
   "display_name": "Python 3",
   "language": "python",
   "name": "python3"
  },
  "language_info": {
   "codemirror_mode": {
    "name": "ipython",
    "version": 3
   },
   "file_extension": ".py",
   "mimetype": "text/x-python",
   "name": "python",
   "nbconvert_exporter": "python",
   "pygments_lexer": "ipython3",
   "version": "3.8.5"
  },
  "toc-autonumbering": false,
  "toc-showcode": false,
  "toc-showmarkdowntxt": false
 },
 "nbformat": 4,
 "nbformat_minor": 4
}
